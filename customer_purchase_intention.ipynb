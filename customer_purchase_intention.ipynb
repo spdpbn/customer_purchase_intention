{
  "nbformat": 4,
  "nbformat_minor": 0,
  "metadata": {
    "colab": {
      "name": "customer_purchase_intention.ipynb",
      "provenance": [],
      "collapsed_sections": []
    },
    "kernelspec": {
      "name": "python3",
      "display_name": "Python 3"
    },
    "language_info": {
      "name": "python"
    }
  },
  "cells": [
    {
      "cell_type": "markdown",
      "metadata": {
        "id": "zl3SdUC6gU6O"
      },
      "source": [
        "**Classification Of Customers Visited To website.**\n",
        "\n",
        "we have given dataset in which there are few independent variables from we have to predict the non purchaser and the purchaser from website.\n",
        " considering it is classification problem i have used classification models to classify the given data.\n",
        "\n",
        "althogh All the features are self explanatory lets look their explanation:\n",
        "User_ID : this is unique id of users who visited website\n",
        "event_time : this is the event time in which user visited website.\t\n",
        "event_name : name of event\n",
        "device_category: the type of device user used while visiting\n",
        "event_source:event source\n",
        "app_version: app version  \n",
        "city:city of user \t\n",
        "app_install_time: app installation time \n",
        "postal_code : postal code of user\t\n",
        "wifi : user used wifi or not\t\n",
        "country_code : user country\t\n",
        "media_source: source of media\n",
        "all other features are self explanatory.\n",
        "region \tstate \tdevice_type \tadvertising_channel \tlanguage \tos_version \tplatform \tad_type \tevent_revenue\n",
        "\n",
        "**Lets start the code**"
      ]
    },
    {
      "cell_type": "markdown",
      "metadata": {
        "id": "7VO7AOLciv5X"
      },
      "source": [
        "First we will import required Libraries here i have used new library called imblearn because given dataset is highly imbalanced. we will discuss this issue further."
      ]
    },
    {
      "cell_type": "code",
      "metadata": {
        "id": "pKVBjKgpKlQ_",
        "colab": {
          "base_uri": "https://localhost:8080/"
        },
        "outputId": "882bd66f-0942-423b-efb2-f7e58bd15147"
      },
      "source": [
        "import pandas as pd\n",
        "import numpy as np\n",
        "import matplotlib.pyplot as plt\n",
        "import seaborn as sns\n",
        "import imblearn\n",
        "from pandas import ExcelWriter\n",
        "from pandas import ExcelFile\n",
        "pd.options.display.max_columns\n"
      ],
      "execution_count": null,
      "outputs": [
        {
          "output_type": "execute_result",
          "data": {
            "text/plain": [
              "0"
            ]
          },
          "metadata": {
            "tags": []
          },
          "execution_count": 38
        }
      ]
    },
    {
      "cell_type": "markdown",
      "metadata": {
        "id": "e8E7XBj7jdgj"
      },
      "source": [
        "Now we will Load the data note that given data is in xslx format which requires few libraries which we have already imported"
      ]
    },
    {
      "cell_type": "code",
      "metadata": {
        "id": "02TyslA0Lgdz"
      },
      "source": [
        "df = pd.read_excel('Assignment_DataScience.xlsx', sheet_name= 'data')"
      ],
      "execution_count": null,
      "outputs": []
    },
    {
      "cell_type": "markdown",
      "metadata": {
        "id": "1S___2UIjnPx"
      },
      "source": [
        "Lets look at our dataset and do some EDA"
      ]
    },
    {
      "cell_type": "code",
      "metadata": {
        "colab": {
          "base_uri": "https://localhost:8080/",
          "height": 400
        },
        "id": "a_fBbbq-OmEY",
        "outputId": "bbbb2014-f749-43f6-cd64-fb25a298a5f4"
      },
      "source": [
        "df.head()"
      ],
      "execution_count": null,
      "outputs": [
        {
          "output_type": "execute_result",
          "data": {
            "text/html": [
              "<div>\n",
              "<style scoped>\n",
              "    .dataframe tbody tr th:only-of-type {\n",
              "        vertical-align: middle;\n",
              "    }\n",
              "\n",
              "    .dataframe tbody tr th {\n",
              "        vertical-align: top;\n",
              "    }\n",
              "\n",
              "    .dataframe thead th {\n",
              "        text-align: right;\n",
              "    }\n",
              "</style>\n",
              "<table border=\"1\" class=\"dataframe\">\n",
              "  <thead>\n",
              "    <tr style=\"text-align: right;\">\n",
              "      <th></th>\n",
              "      <th>User_ID</th>\n",
              "      <th>event_time</th>\n",
              "      <th>event_name</th>\n",
              "      <th>device_category</th>\n",
              "      <th>event_source</th>\n",
              "      <th>app_version</th>\n",
              "      <th>city</th>\n",
              "      <th>app_install_time</th>\n",
              "      <th>postal_code</th>\n",
              "      <th>wifi</th>\n",
              "      <th>country_code</th>\n",
              "      <th>media_source</th>\n",
              "      <th>region</th>\n",
              "      <th>state</th>\n",
              "      <th>device_type</th>\n",
              "      <th>advertising_channel</th>\n",
              "      <th>language</th>\n",
              "      <th>os_version</th>\n",
              "      <th>platform</th>\n",
              "      <th>ad_type</th>\n",
              "      <th>event_revenue</th>\n",
              "    </tr>\n",
              "  </thead>\n",
              "  <tbody>\n",
              "    <tr>\n",
              "      <th>0</th>\n",
              "      <td>1.0</td>\n",
              "      <td>2020-11-29 09:37:56.956 UTC</td>\n",
              "      <td>content_view</td>\n",
              "      <td>NaN</td>\n",
              "      <td>SDK</td>\n",
              "      <td>NaN</td>\n",
              "      <td>NaN</td>\n",
              "      <td>2020-04-28 17:16:02.471</td>\n",
              "      <td>NaN</td>\n",
              "      <td>NaN</td>\n",
              "      <td>NaN</td>\n",
              "      <td>organic</td>\n",
              "      <td>NaN</td>\n",
              "      <td>NaN</td>\n",
              "      <td>NaN</td>\n",
              "      <td>NaN</td>\n",
              "      <td>NaN</td>\n",
              "      <td>NaN</td>\n",
              "      <td>NaN</td>\n",
              "      <td>NaN</td>\n",
              "      <td>0.0</td>\n",
              "    </tr>\n",
              "    <tr>\n",
              "      <th>1</th>\n",
              "      <td>1.0</td>\n",
              "      <td>2020-11-29 09:35:53.79 UTC</td>\n",
              "      <td>list_view</td>\n",
              "      <td>NaN</td>\n",
              "      <td>SDK</td>\n",
              "      <td>NaN</td>\n",
              "      <td>NaN</td>\n",
              "      <td>2020-04-28 17:16:02.471</td>\n",
              "      <td>NaN</td>\n",
              "      <td>NaN</td>\n",
              "      <td>NaN</td>\n",
              "      <td>organic</td>\n",
              "      <td>NaN</td>\n",
              "      <td>NaN</td>\n",
              "      <td>NaN</td>\n",
              "      <td>NaN</td>\n",
              "      <td>NaN</td>\n",
              "      <td>NaN</td>\n",
              "      <td>NaN</td>\n",
              "      <td>NaN</td>\n",
              "      <td>0.0</td>\n",
              "    </tr>\n",
              "    <tr>\n",
              "      <th>2</th>\n",
              "      <td>2.0</td>\n",
              "      <td>2020-11-13 17:20:21.517 UTC</td>\n",
              "      <td>content_view</td>\n",
              "      <td>phone</td>\n",
              "      <td>SDK</td>\n",
              "      <td>5.3.2</td>\n",
              "      <td>Ghaziabad</td>\n",
              "      <td>2019-08-18 13:09:17.000</td>\n",
              "      <td>201303</td>\n",
              "      <td>0.0</td>\n",
              "      <td>IN</td>\n",
              "      <td>organic</td>\n",
              "      <td>AS</td>\n",
              "      <td>UP</td>\n",
              "      <td>iPhoneXR</td>\n",
              "      <td>NaN</td>\n",
              "      <td>en-IN</td>\n",
              "      <td>14.1</td>\n",
              "      <td>ios</td>\n",
              "      <td>NaN</td>\n",
              "      <td>0.0</td>\n",
              "    </tr>\n",
              "    <tr>\n",
              "      <th>3</th>\n",
              "      <td>2.0</td>\n",
              "      <td>2020-11-13 17:18:08.867 UTC</td>\n",
              "      <td>content_view</td>\n",
              "      <td>phone</td>\n",
              "      <td>SDK</td>\n",
              "      <td>5.3.2</td>\n",
              "      <td>Ghaziabad</td>\n",
              "      <td>2019-08-18 13:09:17.000</td>\n",
              "      <td>201303</td>\n",
              "      <td>0.0</td>\n",
              "      <td>IN</td>\n",
              "      <td>organic</td>\n",
              "      <td>AS</td>\n",
              "      <td>UP</td>\n",
              "      <td>iPhoneXR</td>\n",
              "      <td>NaN</td>\n",
              "      <td>en-IN</td>\n",
              "      <td>14.1</td>\n",
              "      <td>ios</td>\n",
              "      <td>NaN</td>\n",
              "      <td>0.0</td>\n",
              "    </tr>\n",
              "    <tr>\n",
              "      <th>4</th>\n",
              "      <td>2.0</td>\n",
              "      <td>2020-11-22 04:13:13.991 UTC</td>\n",
              "      <td>content_view</td>\n",
              "      <td>phone</td>\n",
              "      <td>SDK</td>\n",
              "      <td>5.3.2</td>\n",
              "      <td>Delhi</td>\n",
              "      <td>2020-11-13 17:29:19.142</td>\n",
              "      <td>110053</td>\n",
              "      <td>0.0</td>\n",
              "      <td>IN</td>\n",
              "      <td>googleadwords_int</td>\n",
              "      <td>AS</td>\n",
              "      <td>DL</td>\n",
              "      <td>iPhoneXR</td>\n",
              "      <td>Search</td>\n",
              "      <td>en-IN</td>\n",
              "      <td>14.1</td>\n",
              "      <td>ios</td>\n",
              "      <td>AppDeepLink</td>\n",
              "      <td>0.0</td>\n",
              "    </tr>\n",
              "  </tbody>\n",
              "</table>\n",
              "</div>"
            ],
            "text/plain": [
              "   User_ID                   event_time  ...      ad_type event_revenue\n",
              "0      1.0  2020-11-29 09:37:56.956 UTC  ...          NaN           0.0\n",
              "1      1.0   2020-11-29 09:35:53.79 UTC  ...          NaN           0.0\n",
              "2      2.0  2020-11-13 17:20:21.517 UTC  ...          NaN           0.0\n",
              "3      2.0  2020-11-13 17:18:08.867 UTC  ...          NaN           0.0\n",
              "4      2.0  2020-11-22 04:13:13.991 UTC  ...  AppDeepLink           0.0\n",
              "\n",
              "[5 rows x 21 columns]"
            ]
          },
          "metadata": {
            "tags": []
          },
          "execution_count": 40
        }
      ]
    },
    {
      "cell_type": "code",
      "metadata": {
        "colab": {
          "base_uri": "https://localhost:8080/"
        },
        "id": "IrmcRwrWOr8A",
        "outputId": "0c987dad-2bb4-4453-be47-37f19409b80e"
      },
      "source": [
        "df.info()"
      ],
      "execution_count": null,
      "outputs": [
        {
          "output_type": "stream",
          "text": [
            "<class 'pandas.core.frame.DataFrame'>\n",
            "RangeIndex: 294247 entries, 0 to 294246\n",
            "Data columns (total 21 columns):\n",
            " #   Column               Non-Null Count   Dtype         \n",
            "---  ------               --------------   -----         \n",
            " 0   User_ID              294246 non-null  float64       \n",
            " 1   event_time           294247 non-null  object        \n",
            " 2   event_name           294247 non-null  object        \n",
            " 3   device_category      138117 non-null  object        \n",
            " 4   event_source         294247 non-null  object        \n",
            " 5   app_version          138117 non-null  object        \n",
            " 6   city                 138117 non-null  object        \n",
            " 7   app_install_time     294246 non-null  datetime64[ns]\n",
            " 8   postal_code          138116 non-null  object        \n",
            " 9   wifi                 138116 non-null  float64       \n",
            " 10  country_code         138116 non-null  object        \n",
            " 11  media_source         294151 non-null  object        \n",
            " 12  region               137810 non-null  object        \n",
            " 13  state                138116 non-null  object        \n",
            " 14  device_type          138116 non-null  object        \n",
            " 15  advertising_channel  15870 non-null   object        \n",
            " 16  language             138116 non-null  object        \n",
            " 17  os_version           138116 non-null  object        \n",
            " 18  platform             138116 non-null  object        \n",
            " 19  ad_type              9298 non-null    object        \n",
            " 20  event_revenue        294246 non-null  float64       \n",
            "dtypes: datetime64[ns](1), float64(3), object(17)\n",
            "memory usage: 47.1+ MB\n"
          ],
          "name": "stdout"
        }
      ]
    },
    {
      "cell_type": "markdown",
      "metadata": {
        "id": "xu3s9pPmj7tL"
      },
      "source": [
        "From above code we found that data has 21 columns and 294247 entries tha tis huge number.Lets drop unnecessory columns that are not required to predict result."
      ]
    },
    {
      "cell_type": "code",
      "metadata": {
        "id": "t2_DyOswbepm"
      },
      "source": [
        "df.drop(['event_time', 'app_install_time', 'app_version', 'os_version'], axis= 1, inplace= True ) "
      ],
      "execution_count": null,
      "outputs": []
    },
    {
      "cell_type": "markdown",
      "metadata": {
        "id": "88fLxvaykWZL"
      },
      "source": [
        "Lets check shape of data again"
      ]
    },
    {
      "cell_type": "code",
      "metadata": {
        "colab": {
          "base_uri": "https://localhost:8080/"
        },
        "id": "NR1Ui7VXcLXs",
        "outputId": "234e6a04-f3c3-42bd-b361-fc21a3b2ac32"
      },
      "source": [
        "df.shape"
      ],
      "execution_count": null,
      "outputs": [
        {
          "output_type": "execute_result",
          "data": {
            "text/plain": [
              "(294247, 17)"
            ]
          },
          "metadata": {
            "tags": []
          },
          "execution_count": 43
        }
      ]
    },
    {
      "cell_type": "markdown",
      "metadata": {
        "id": "9CzvsA8ikd63"
      },
      "source": [
        "Now we will check do we have null values ?\n",
        "Lets visualize "
      ]
    },
    {
      "cell_type": "code",
      "metadata": {
        "id": "8_xJ_8mgGttD"
      },
      "source": [
        "import missingno as msno"
      ],
      "execution_count": null,
      "outputs": []
    },
    {
      "cell_type": "code",
      "metadata": {
        "colab": {
          "base_uri": "https://localhost:8080/",
          "height": 520
        },
        "id": "qXXiT8SOGvMF",
        "outputId": "3affedc1-0e71-4c1e-8a25-a7389fd98d17"
      },
      "source": [
        "msno.bar(df)"
      ],
      "execution_count": null,
      "outputs": [
        {
          "output_type": "execute_result",
          "data": {
            "text/plain": [
              "<matplotlib.axes._subplots.AxesSubplot at 0x7f0f8b1183d0>"
            ]
          },
          "metadata": {
            "tags": []
          },
          "execution_count": 99
        },
        {
          "output_type": "display_data",
          "data": {
            "image/png": "[encoded data removed]",
            "text/plain": [
              "<Figure size 1728x720 with 3 Axes>"
            ]
          },
          "metadata": {
            "tags": [],
            "needs_background": "light"
          }
        }
      ]
    },
    {
      "cell_type": "code",
      "metadata": {
        "colab": {
          "base_uri": "https://localhost:8080/"
        },
        "id": "8D-v00mHw4l3",
        "outputId": "966f059a-a6c4-414a-c407-406fda5a2737"
      },
      "source": [
        "df.isnull().sum()*100/len(df)"
      ],
      "execution_count": null,
      "outputs": [
        {
          "output_type": "execute_result",
          "data": {
            "text/plain": [
              "User_ID                 0.000340\n",
              "event_name              0.000000\n",
              "device_category        53.060864\n",
              "event_source            0.000000\n",
              "city                   53.060864\n",
              "postal_code            53.061204\n",
              "wifi                   53.061204\n",
              "country_code           53.061204\n",
              "media_source            0.032626\n",
              "region                 53.165198\n",
              "state                  53.061204\n",
              "device_type            53.061204\n",
              "advertising_channel    94.606572\n",
              "language               53.061204\n",
              "platform               53.061204\n",
              "ad_type                96.840070\n",
              "event_revenue           0.000340\n",
              "dtype: float64"
            ]
          },
          "metadata": {
            "tags": []
          },
          "execution_count": 44
        }
      ]
    },
    {
      "cell_type": "markdown",
      "metadata": {
        "id": "9dt-PE2SkykS"
      },
      "source": [
        "From above code we found that the dataset is full of missig values to achieve good results and accuracy we have to handle this missing values.\n",
        "another reason to handle this missing values is some macine learning algorithms not work properly with missing values.here missing values are huge in number. we can handle them by one of the following methods.\n",
        "\n",
        "\n",
        "1.   SimpleImputer Class with different imputation Techniques(mean,mode,median)\n",
        "2.Interpolation method\n",
        "3. By predicting missing values using machine learning algorithms\n",
        "4. Imputation with Fillna method\n",
        "5. Nowadays the experimental Package MICE can handle missing values.\n",
        "\n",
        "After checking all of this method i found following drawbacks \n",
        "for simple imputation the features should be numerical featuees although we can use 'mode' imputation but it will fill most frequent values and there is possibility of repeatation of single variable multiple times.i also tried interpolation which requires to convert features to numeric values.because of computing power i havent used machine learning algorithm method the mice method is still in experimental phase so i have used fillna method with forward fill.\n",
        "\n",
        "\n",
        "\n",
        "\n",
        "\n",
        "\n"
      ]
    },
    {
      "cell_type": "code",
      "metadata": {
        "id": "-cdQe6By2_me"
      },
      "source": [
        "df.fillna(method= 'ffill', inplace= True)"
      ],
      "execution_count": null,
      "outputs": []
    },
    {
      "cell_type": "code",
      "metadata": {
        "colab": {
          "base_uri": "https://localhost:8080/"
        },
        "id": "RXshDealzotX",
        "outputId": "0dd1ea61-85f5-4872-a1cd-60e04572e20c"
      },
      "source": [
        "df.isnull().sum()"
      ],
      "execution_count": null,
      "outputs": [
        {
          "output_type": "execute_result",
          "data": {
            "text/plain": [
              "User_ID                0\n",
              "event_name             0\n",
              "device_category        2\n",
              "event_source           0\n",
              "city                   2\n",
              "postal_code            2\n",
              "wifi                   2\n",
              "country_code           2\n",
              "media_source           0\n",
              "region                 2\n",
              "state                  2\n",
              "device_type            2\n",
              "advertising_channel    4\n",
              "language               2\n",
              "platform               2\n",
              "ad_type                4\n",
              "event_revenue          0\n",
              "dtype: int64"
            ]
          },
          "metadata": {
            "tags": []
          },
          "execution_count": 46
        }
      ]
    },
    {
      "cell_type": "markdown",
      "metadata": {
        "id": "vSK0s64moJRa"
      },
      "source": [
        "We checked Misssing values again as we used forward fill imputation the first rows having missing values are not filled so looking at the dataset size we can simply delete it."
      ]
    },
    {
      "cell_type": "code",
      "metadata": {
        "id": "1OrRSY4hRVOc"
      },
      "source": [
        "df = df.dropna()"
      ],
      "execution_count": null,
      "outputs": []
    },
    {
      "cell_type": "code",
      "metadata": {
        "colab": {
          "base_uri": "https://localhost:8080/"
        },
        "id": "BR3wMi4I86Li",
        "outputId": "15fcf9d9-2d59-4b3e-8925-c5978b3d55b5"
      },
      "source": [
        "df.isnull().sum()"
      ],
      "execution_count": null,
      "outputs": [
        {
          "output_type": "execute_result",
          "data": {
            "text/plain": [
              "User_ID                0\n",
              "event_name             0\n",
              "device_category        0\n",
              "event_source           0\n",
              "city                   0\n",
              "postal_code            0\n",
              "wifi                   0\n",
              "country_code           0\n",
              "media_source           0\n",
              "region                 0\n",
              "state                  0\n",
              "device_type            0\n",
              "advertising_channel    0\n",
              "language               0\n",
              "platform               0\n",
              "ad_type                0\n",
              "event_revenue          0\n",
              "dtype: int64"
            ]
          },
          "metadata": {
            "tags": []
          },
          "execution_count": 48
        }
      ]
    },
    {
      "cell_type": "code",
      "metadata": {
        "id": "M2A8cvulG5sF"
      },
      "source": [
        "df['event_revenue1'] = np.where(df.event_revenue > 0, 1, 0)"
      ],
      "execution_count": null,
      "outputs": []
    },
    {
      "cell_type": "markdown",
      "metadata": {
        "id": "TowgSDxrohK_"
      },
      "source": [
        "Now we have cleaned the data. by observing data i found that our target variable has numerical values but we just have to find purchaser and non purchaser. so we dont need revenues so i converted this revenue values into boolean values of 0 and 1.now it will be easy to classify the data.lets look at the variables in the event revenue column."
      ]
    },
    {
      "cell_type": "code",
      "metadata": {
        "colab": {
          "base_uri": "https://localhost:8080/",
          "height": 355
        },
        "id": "WhKf8jZFHRFf",
        "outputId": "94fa6040-c897-40ec-8006-50cd5af8cfd7"
      },
      "source": [
        "sns.countplot(df.event_revenue1)"
      ],
      "execution_count": null,
      "outputs": [
        {
          "output_type": "stream",
          "text": [
            "/usr/local/lib/python3.7/dist-packages/seaborn/_decorators.py:43: FutureWarning: Pass the following variable as a keyword arg: x. From version 0.12, the only valid positional argument will be `data`, and passing other arguments without an explicit keyword will result in an error or misinterpretation.\n",
            "  FutureWarning\n"
          ],
          "name": "stderr"
        },
        {
          "output_type": "execute_result",
          "data": {
            "text/plain": [
              "<matplotlib.axes._subplots.AxesSubplot at 0x7f0f8e5fe050>"
            ]
          },
          "metadata": {
            "tags": []
          },
          "execution_count": 100
        },
        {
          "output_type": "display_data",
          "data": {
            "image/png": "[encoded data removed]",
            "text/plain": [
              "<Figure size 432x288 with 1 Axes>"
            ]
          },
          "metadata": {
            "tags": [],
            "needs_background": "light"
          }
        }
      ]
    },
    {
      "cell_type": "code",
      "metadata": {
        "colab": {
          "base_uri": "https://localhost:8080/"
        },
        "id": "WSFGfKAlG_Hr",
        "outputId": "02c2c20d-0ab9-43a2-ea2c-87f9ef07a376"
      },
      "source": [
        "df.event_revenue1.value_counts()"
      ],
      "execution_count": null,
      "outputs": [
        {
          "output_type": "execute_result",
          "data": {
            "text/plain": [
              "0    293407\n",
              "1       836\n",
              "Name: event_revenue1, dtype: int64"
            ]
          },
          "metadata": {
            "tags": []
          },
          "execution_count": 50
        }
      ]
    },
    {
      "cell_type": "code",
      "metadata": {
        "id": "ICs8raPSyXfz"
      },
      "source": [
        "df = df.drop('event_revenue', axis= 1)"
      ],
      "execution_count": null,
      "outputs": []
    },
    {
      "cell_type": "markdown",
      "metadata": {
        "id": "L65FPuzppeMV"
      },
      "source": [
        "We simply found that the dataset is highly imbalanced so we have to make it balanced in further steps.also ihave deleted previous event revenue column and replaced with new column."
      ]
    },
    {
      "cell_type": "code",
      "metadata": {
        "colab": {
          "base_uri": "https://localhost:8080/",
          "height": 244
        },
        "id": "azUDXrUo9s7k",
        "outputId": "8062d52e-f888-4a7e-c05e-0f5720d49d7c"
      },
      "source": [
        "df.head()"
      ],
      "execution_count": null,
      "outputs": [
        {
          "output_type": "execute_result",
          "data": {
            "text/html": [
              "<div>\n",
              "<style scoped>\n",
              "    .dataframe tbody tr th:only-of-type {\n",
              "        vertical-align: middle;\n",
              "    }\n",
              "\n",
              "    .dataframe tbody tr th {\n",
              "        vertical-align: top;\n",
              "    }\n",
              "\n",
              "    .dataframe thead th {\n",
              "        text-align: right;\n",
              "    }\n",
              "</style>\n",
              "<table border=\"1\" class=\"dataframe\">\n",
              "  <thead>\n",
              "    <tr style=\"text-align: right;\">\n",
              "      <th></th>\n",
              "      <th>User_ID</th>\n",
              "      <th>event_name</th>\n",
              "      <th>device_category</th>\n",
              "      <th>event_source</th>\n",
              "      <th>city</th>\n",
              "      <th>postal_code</th>\n",
              "      <th>wifi</th>\n",
              "      <th>country_code</th>\n",
              "      <th>media_source</th>\n",
              "      <th>region</th>\n",
              "      <th>state</th>\n",
              "      <th>device_type</th>\n",
              "      <th>advertising_channel</th>\n",
              "      <th>language</th>\n",
              "      <th>platform</th>\n",
              "      <th>ad_type</th>\n",
              "      <th>event_revenue1</th>\n",
              "    </tr>\n",
              "  </thead>\n",
              "  <tbody>\n",
              "    <tr>\n",
              "      <th>4</th>\n",
              "      <td>2.0</td>\n",
              "      <td>content_view</td>\n",
              "      <td>phone</td>\n",
              "      <td>SDK</td>\n",
              "      <td>Delhi</td>\n",
              "      <td>110053</td>\n",
              "      <td>0.0</td>\n",
              "      <td>IN</td>\n",
              "      <td>googleadwords_int</td>\n",
              "      <td>AS</td>\n",
              "      <td>DL</td>\n",
              "      <td>iPhoneXR</td>\n",
              "      <td>Search</td>\n",
              "      <td>en-IN</td>\n",
              "      <td>ios</td>\n",
              "      <td>AppDeepLink</td>\n",
              "      <td>0</td>\n",
              "    </tr>\n",
              "    <tr>\n",
              "      <th>5</th>\n",
              "      <td>2.0</td>\n",
              "      <td>re-engagement</td>\n",
              "      <td>phone</td>\n",
              "      <td>SDK</td>\n",
              "      <td>Ghaziabad</td>\n",
              "      <td>201303</td>\n",
              "      <td>0.0</td>\n",
              "      <td>IN</td>\n",
              "      <td>googleadwords_int</td>\n",
              "      <td>AS</td>\n",
              "      <td>UP</td>\n",
              "      <td>iPhoneXR</td>\n",
              "      <td>Search</td>\n",
              "      <td>en-IN</td>\n",
              "      <td>ios</td>\n",
              "      <td>AppDeepLink</td>\n",
              "      <td>0</td>\n",
              "    </tr>\n",
              "    <tr>\n",
              "      <th>6</th>\n",
              "      <td>3.0</td>\n",
              "      <td>list_view</td>\n",
              "      <td>phone</td>\n",
              "      <td>SDK</td>\n",
              "      <td>Ghaziabad</td>\n",
              "      <td>201303</td>\n",
              "      <td>0.0</td>\n",
              "      <td>IN</td>\n",
              "      <td>organic</td>\n",
              "      <td>AS</td>\n",
              "      <td>UP</td>\n",
              "      <td>iPhoneXR</td>\n",
              "      <td>Search</td>\n",
              "      <td>en-IN</td>\n",
              "      <td>ios</td>\n",
              "      <td>AppDeepLink</td>\n",
              "      <td>0</td>\n",
              "    </tr>\n",
              "    <tr>\n",
              "      <th>7</th>\n",
              "      <td>3.0</td>\n",
              "      <td>list_view</td>\n",
              "      <td>phone</td>\n",
              "      <td>SDK</td>\n",
              "      <td>Ghaziabad</td>\n",
              "      <td>201303</td>\n",
              "      <td>0.0</td>\n",
              "      <td>IN</td>\n",
              "      <td>organic</td>\n",
              "      <td>AS</td>\n",
              "      <td>UP</td>\n",
              "      <td>iPhoneXR</td>\n",
              "      <td>Search</td>\n",
              "      <td>en-IN</td>\n",
              "      <td>ios</td>\n",
              "      <td>AppDeepLink</td>\n",
              "      <td>0</td>\n",
              "    </tr>\n",
              "    <tr>\n",
              "      <th>8</th>\n",
              "      <td>3.0</td>\n",
              "      <td>list_view</td>\n",
              "      <td>phone</td>\n",
              "      <td>SDK</td>\n",
              "      <td>Ghaziabad</td>\n",
              "      <td>201303</td>\n",
              "      <td>0.0</td>\n",
              "      <td>IN</td>\n",
              "      <td>organic</td>\n",
              "      <td>AS</td>\n",
              "      <td>UP</td>\n",
              "      <td>iPhoneXR</td>\n",
              "      <td>Search</td>\n",
              "      <td>en-IN</td>\n",
              "      <td>ios</td>\n",
              "      <td>AppDeepLink</td>\n",
              "      <td>0</td>\n",
              "    </tr>\n",
              "  </tbody>\n",
              "</table>\n",
              "</div>"
            ],
            "text/plain": [
              "   User_ID     event_name device_category  ... platform      ad_type event_revenue1\n",
              "4      2.0   content_view           phone  ...      ios  AppDeepLink              0\n",
              "5      2.0  re-engagement           phone  ...      ios  AppDeepLink              0\n",
              "6      3.0      list_view           phone  ...      ios  AppDeepLink              0\n",
              "7      3.0      list_view           phone  ...      ios  AppDeepLink              0\n",
              "8      3.0      list_view           phone  ...      ios  AppDeepLink              0\n",
              "\n",
              "[5 rows x 17 columns]"
            ]
          },
          "metadata": {
            "tags": []
          },
          "execution_count": 52
        }
      ]
    },
    {
      "cell_type": "code",
      "metadata": {
        "colab": {
          "base_uri": "https://localhost:8080/"
        },
        "id": "AcLNDV4NRxQC",
        "outputId": "975af6a7-c52b-4ae5-ad5e-207a062151af"
      },
      "source": [
        "!pip install category_encoders"
      ],
      "execution_count": null,
      "outputs": [
        {
          "output_type": "stream",
          "text": [
            "Requirement already satisfied: category_encoders in /usr/local/lib/python3.7/dist-packages (2.2.2)\n",
            "Requirement already satisfied: pandas>=0.21.1 in /usr/local/lib/python3.7/dist-packages (from category_encoders) (1.1.5)\n",
            "Requirement already satisfied: patsy>=0.5.1 in /usr/local/lib/python3.7/dist-packages (from category_encoders) (0.5.1)\n",
            "Requirement already satisfied: numpy>=1.14.0 in /usr/local/lib/python3.7/dist-packages (from category_encoders) (1.19.5)\n",
            "Requirement already satisfied: scikit-learn>=0.20.0 in /usr/local/lib/python3.7/dist-packages (from category_encoders) (0.22.2.post1)\n",
            "Requirement already satisfied: statsmodels>=0.9.0 in /usr/local/lib/python3.7/dist-packages (from category_encoders) (0.10.2)\n",
            "Requirement already satisfied: scipy>=1.0.0 in /usr/local/lib/python3.7/dist-packages (from category_encoders) (1.4.1)\n",
            "Requirement already satisfied: pytz>=2017.2 in /usr/local/lib/python3.7/dist-packages (from pandas>=0.21.1->category_encoders) (2018.9)\n",
            "Requirement already satisfied: python-dateutil>=2.7.3 in /usr/local/lib/python3.7/dist-packages (from pandas>=0.21.1->category_encoders) (2.8.1)\n",
            "Requirement already satisfied: six in /usr/local/lib/python3.7/dist-packages (from patsy>=0.5.1->category_encoders) (1.15.0)\n",
            "Requirement already satisfied: joblib>=0.11 in /usr/local/lib/python3.7/dist-packages (from scikit-learn>=0.20.0->category_encoders) (1.0.1)\n"
          ],
          "name": "stdout"
        }
      ]
    },
    {
      "cell_type": "markdown",
      "metadata": {
        "id": "C5DDwdAxp8sp"
      },
      "source": [
        "Some machine learning models are not good with categorical data which is not numerical.so we have to encode this data for model to understand the features.\n",
        "there are following techniques to do this:\n",
        "\n",
        "\n",
        "*   One hot Encoding\n",
        "*   Binary Encoding\n",
        "*   Encoding with Labelencoder\n",
        "*   Encoding Using Machine Learning model\n",
        "\n",
        "All this techniques have their pros and cons after checking some of them i used **'binery encoding with base N'**\n",
        "because one hot encoding creates multiple columns since we have more variables **the number of columns will be increase **and also there is chance **of dummy variable trap**.label encoder creates new labels for each variable but we have large number of variables so it is not worthy to use.because of my **low computation power **i have not tried machine learning model technique so i will go with **binary encoding** with base which will reduce number of column as we increase its base.\n",
        "\n",
        "\n",
        "\n"
      ]
    },
    {
      "cell_type": "code",
      "metadata": {
        "id": "oFiOy-tWlpJK"
      },
      "source": [
        "import category_encoders as ce\n",
        "encoder = ce.BaseNEncoder(cols=['event_name', 'event_source', 'device_category', 'city', 'postal_code', 'country_code', 'media_source', 'region', 'state', 'device_type', 'language', 'platform', 'advertising_channel', 'ad_type'], return_df=True, base=5)      \n"
      ],
      "execution_count": null,
      "outputs": []
    },
    {
      "cell_type": "code",
      "metadata": {
        "colab": {
          "base_uri": "https://localhost:8080/",
          "height": 263
        },
        "id": "EPl_P32ku9_Q",
        "outputId": "3ee5840f-d616-478b-fa86-46dbaa029f06"
      },
      "source": [
        "df1 = encoder.fit_transform(df)\n",
        "df1.head()"
      ],
      "execution_count": null,
      "outputs": [
        {
          "output_type": "stream",
          "text": [
            "/usr/local/lib/python3.7/dist-packages/category_encoders/utils.py:21: FutureWarning: is_categorical is deprecated and will be removed in a future version.  Use is_categorical_dtype instead\n",
            "  elif pd.api.types.is_categorical(cols):\n"
          ],
          "name": "stderr"
        },
        {
          "output_type": "execute_result",
          "data": {
            "text/html": [
              "<div>\n",
              "<style scoped>\n",
              "    .dataframe tbody tr th:only-of-type {\n",
              "        vertical-align: middle;\n",
              "    }\n",
              "\n",
              "    .dataframe tbody tr th {\n",
              "        vertical-align: top;\n",
              "    }\n",
              "\n",
              "    .dataframe thead th {\n",
              "        text-align: right;\n",
              "    }\n",
              "</style>\n",
              "<table border=\"1\" class=\"dataframe\">\n",
              "  <thead>\n",
              "    <tr style=\"text-align: right;\">\n",
              "      <th></th>\n",
              "      <th>User_ID</th>\n",
              "      <th>event_name_0</th>\n",
              "      <th>event_name_1</th>\n",
              "      <th>event_name_2</th>\n",
              "      <th>device_category_0</th>\n",
              "      <th>device_category_1</th>\n",
              "      <th>event_source_0</th>\n",
              "      <th>city_0</th>\n",
              "      <th>city_1</th>\n",
              "      <th>city_2</th>\n",
              "      <th>city_3</th>\n",
              "      <th>city_4</th>\n",
              "      <th>city_5</th>\n",
              "      <th>postal_code_0</th>\n",
              "      <th>postal_code_1</th>\n",
              "      <th>postal_code_2</th>\n",
              "      <th>postal_code_3</th>\n",
              "      <th>postal_code_4</th>\n",
              "      <th>postal_code_5</th>\n",
              "      <th>postal_code_6</th>\n",
              "      <th>wifi</th>\n",
              "      <th>country_code_0</th>\n",
              "      <th>country_code_1</th>\n",
              "      <th>country_code_2</th>\n",
              "      <th>country_code_3</th>\n",
              "      <th>media_source_0</th>\n",
              "      <th>media_source_1</th>\n",
              "      <th>media_source_2</th>\n",
              "      <th>region_0</th>\n",
              "      <th>region_1</th>\n",
              "      <th>state_0</th>\n",
              "      <th>state_1</th>\n",
              "      <th>state_2</th>\n",
              "      <th>state_3</th>\n",
              "      <th>device_type_0</th>\n",
              "      <th>device_type_1</th>\n",
              "      <th>device_type_2</th>\n",
              "      <th>device_type_3</th>\n",
              "      <th>advertising_channel_0</th>\n",
              "      <th>advertising_channel_1</th>\n",
              "      <th>advertising_channel_2</th>\n",
              "      <th>language_0</th>\n",
              "      <th>language_1</th>\n",
              "      <th>language_2</th>\n",
              "      <th>language_3</th>\n",
              "      <th>platform_0</th>\n",
              "      <th>ad_type_0</th>\n",
              "      <th>ad_type_1</th>\n",
              "      <th>event_revenue1</th>\n",
              "    </tr>\n",
              "  </thead>\n",
              "  <tbody>\n",
              "    <tr>\n",
              "      <th>4</th>\n",
              "      <td>2.0</td>\n",
              "      <td>0</td>\n",
              "      <td>0</td>\n",
              "      <td>1</td>\n",
              "      <td>0</td>\n",
              "      <td>1</td>\n",
              "      <td>1</td>\n",
              "      <td>0</td>\n",
              "      <td>0</td>\n",
              "      <td>0</td>\n",
              "      <td>0</td>\n",
              "      <td>0</td>\n",
              "      <td>1</td>\n",
              "      <td>0</td>\n",
              "      <td>0</td>\n",
              "      <td>0</td>\n",
              "      <td>0</td>\n",
              "      <td>0</td>\n",
              "      <td>0</td>\n",
              "      <td>1</td>\n",
              "      <td>0.0</td>\n",
              "      <td>0</td>\n",
              "      <td>0</td>\n",
              "      <td>0</td>\n",
              "      <td>1</td>\n",
              "      <td>0</td>\n",
              "      <td>0</td>\n",
              "      <td>1</td>\n",
              "      <td>0</td>\n",
              "      <td>1</td>\n",
              "      <td>0</td>\n",
              "      <td>0</td>\n",
              "      <td>0</td>\n",
              "      <td>1</td>\n",
              "      <td>0</td>\n",
              "      <td>0</td>\n",
              "      <td>0</td>\n",
              "      <td>1</td>\n",
              "      <td>0</td>\n",
              "      <td>0</td>\n",
              "      <td>1</td>\n",
              "      <td>0</td>\n",
              "      <td>0</td>\n",
              "      <td>0</td>\n",
              "      <td>1</td>\n",
              "      <td>1</td>\n",
              "      <td>0</td>\n",
              "      <td>1</td>\n",
              "      <td>0</td>\n",
              "    </tr>\n",
              "    <tr>\n",
              "      <th>5</th>\n",
              "      <td>2.0</td>\n",
              "      <td>0</td>\n",
              "      <td>0</td>\n",
              "      <td>2</td>\n",
              "      <td>0</td>\n",
              "      <td>1</td>\n",
              "      <td>1</td>\n",
              "      <td>0</td>\n",
              "      <td>0</td>\n",
              "      <td>0</td>\n",
              "      <td>0</td>\n",
              "      <td>0</td>\n",
              "      <td>2</td>\n",
              "      <td>0</td>\n",
              "      <td>0</td>\n",
              "      <td>0</td>\n",
              "      <td>0</td>\n",
              "      <td>0</td>\n",
              "      <td>0</td>\n",
              "      <td>2</td>\n",
              "      <td>0.0</td>\n",
              "      <td>0</td>\n",
              "      <td>0</td>\n",
              "      <td>0</td>\n",
              "      <td>1</td>\n",
              "      <td>0</td>\n",
              "      <td>0</td>\n",
              "      <td>1</td>\n",
              "      <td>0</td>\n",
              "      <td>1</td>\n",
              "      <td>0</td>\n",
              "      <td>0</td>\n",
              "      <td>0</td>\n",
              "      <td>2</td>\n",
              "      <td>0</td>\n",
              "      <td>0</td>\n",
              "      <td>0</td>\n",
              "      <td>1</td>\n",
              "      <td>0</td>\n",
              "      <td>0</td>\n",
              "      <td>1</td>\n",
              "      <td>0</td>\n",
              "      <td>0</td>\n",
              "      <td>0</td>\n",
              "      <td>1</td>\n",
              "      <td>1</td>\n",
              "      <td>0</td>\n",
              "      <td>1</td>\n",
              "      <td>0</td>\n",
              "    </tr>\n",
              "    <tr>\n",
              "      <th>6</th>\n",
              "      <td>3.0</td>\n",
              "      <td>0</td>\n",
              "      <td>0</td>\n",
              "      <td>3</td>\n",
              "      <td>0</td>\n",
              "      <td>1</td>\n",
              "      <td>1</td>\n",
              "      <td>0</td>\n",
              "      <td>0</td>\n",
              "      <td>0</td>\n",
              "      <td>0</td>\n",
              "      <td>0</td>\n",
              "      <td>2</td>\n",
              "      <td>0</td>\n",
              "      <td>0</td>\n",
              "      <td>0</td>\n",
              "      <td>0</td>\n",
              "      <td>0</td>\n",
              "      <td>0</td>\n",
              "      <td>2</td>\n",
              "      <td>0.0</td>\n",
              "      <td>0</td>\n",
              "      <td>0</td>\n",
              "      <td>0</td>\n",
              "      <td>1</td>\n",
              "      <td>0</td>\n",
              "      <td>0</td>\n",
              "      <td>2</td>\n",
              "      <td>0</td>\n",
              "      <td>1</td>\n",
              "      <td>0</td>\n",
              "      <td>0</td>\n",
              "      <td>0</td>\n",
              "      <td>2</td>\n",
              "      <td>0</td>\n",
              "      <td>0</td>\n",
              "      <td>0</td>\n",
              "      <td>1</td>\n",
              "      <td>0</td>\n",
              "      <td>0</td>\n",
              "      <td>1</td>\n",
              "      <td>0</td>\n",
              "      <td>0</td>\n",
              "      <td>0</td>\n",
              "      <td>1</td>\n",
              "      <td>1</td>\n",
              "      <td>0</td>\n",
              "      <td>1</td>\n",
              "      <td>0</td>\n",
              "    </tr>\n",
              "    <tr>\n",
              "      <th>7</th>\n",
              "      <td>3.0</td>\n",
              "      <td>0</td>\n",
              "      <td>0</td>\n",
              "      <td>3</td>\n",
              "      <td>0</td>\n",
              "      <td>1</td>\n",
              "      <td>1</td>\n",
              "      <td>0</td>\n",
              "      <td>0</td>\n",
              "      <td>0</td>\n",
              "      <td>0</td>\n",
              "      <td>0</td>\n",
              "      <td>2</td>\n",
              "      <td>0</td>\n",
              "      <td>0</td>\n",
              "      <td>0</td>\n",
              "      <td>0</td>\n",
              "      <td>0</td>\n",
              "      <td>0</td>\n",
              "      <td>2</td>\n",
              "      <td>0.0</td>\n",
              "      <td>0</td>\n",
              "      <td>0</td>\n",
              "      <td>0</td>\n",
              "      <td>1</td>\n",
              "      <td>0</td>\n",
              "      <td>0</td>\n",
              "      <td>2</td>\n",
              "      <td>0</td>\n",
              "      <td>1</td>\n",
              "      <td>0</td>\n",
              "      <td>0</td>\n",
              "      <td>0</td>\n",
              "      <td>2</td>\n",
              "      <td>0</td>\n",
              "      <td>0</td>\n",
              "      <td>0</td>\n",
              "      <td>1</td>\n",
              "      <td>0</td>\n",
              "      <td>0</td>\n",
              "      <td>1</td>\n",
              "      <td>0</td>\n",
              "      <td>0</td>\n",
              "      <td>0</td>\n",
              "      <td>1</td>\n",
              "      <td>1</td>\n",
              "      <td>0</td>\n",
              "      <td>1</td>\n",
              "      <td>0</td>\n",
              "    </tr>\n",
              "    <tr>\n",
              "      <th>8</th>\n",
              "      <td>3.0</td>\n",
              "      <td>0</td>\n",
              "      <td>0</td>\n",
              "      <td>3</td>\n",
              "      <td>0</td>\n",
              "      <td>1</td>\n",
              "      <td>1</td>\n",
              "      <td>0</td>\n",
              "      <td>0</td>\n",
              "      <td>0</td>\n",
              "      <td>0</td>\n",
              "      <td>0</td>\n",
              "      <td>2</td>\n",
              "      <td>0</td>\n",
              "      <td>0</td>\n",
              "      <td>0</td>\n",
              "      <td>0</td>\n",
              "      <td>0</td>\n",
              "      <td>0</td>\n",
              "      <td>2</td>\n",
              "      <td>0.0</td>\n",
              "      <td>0</td>\n",
              "      <td>0</td>\n",
              "      <td>0</td>\n",
              "      <td>1</td>\n",
              "      <td>0</td>\n",
              "      <td>0</td>\n",
              "      <td>2</td>\n",
              "      <td>0</td>\n",
              "      <td>1</td>\n",
              "      <td>0</td>\n",
              "      <td>0</td>\n",
              "      <td>0</td>\n",
              "      <td>2</td>\n",
              "      <td>0</td>\n",
              "      <td>0</td>\n",
              "      <td>0</td>\n",
              "      <td>1</td>\n",
              "      <td>0</td>\n",
              "      <td>0</td>\n",
              "      <td>1</td>\n",
              "      <td>0</td>\n",
              "      <td>0</td>\n",
              "      <td>0</td>\n",
              "      <td>1</td>\n",
              "      <td>1</td>\n",
              "      <td>0</td>\n",
              "      <td>1</td>\n",
              "      <td>0</td>\n",
              "    </tr>\n",
              "  </tbody>\n",
              "</table>\n",
              "</div>"
            ],
            "text/plain": [
              "   User_ID  event_name_0  event_name_1  ...  ad_type_0  ad_type_1  event_revenue1\n",
              "4      2.0             0             0  ...          0          1               0\n",
              "5      2.0             0             0  ...          0          1               0\n",
              "6      3.0             0             0  ...          0          1               0\n",
              "7      3.0             0             0  ...          0          1               0\n",
              "8      3.0             0             0  ...          0          1               0\n",
              "\n",
              "[5 rows x 49 columns]"
            ]
          },
          "metadata": {
            "tags": []
          },
          "execution_count": 55
        }
      ]
    },
    {
      "cell_type": "code",
      "metadata": {
        "colab": {
          "base_uri": "https://localhost:8080/"
        },
        "id": "yYRys8jZklFy",
        "outputId": "5f0a3ba1-a011-468c-f607-d7ff8432dc0b"
      },
      "source": [
        "df1.isnull().sum()"
      ],
      "execution_count": null,
      "outputs": [
        {
          "output_type": "execute_result",
          "data": {
            "text/plain": [
              "User_ID                  0\n",
              "event_name_0             0\n",
              "event_name_1             0\n",
              "event_name_2             0\n",
              "device_category_0        0\n",
              "device_category_1        0\n",
              "event_source_0           0\n",
              "city_0                   0\n",
              "city_1                   0\n",
              "city_2                   0\n",
              "city_3                   0\n",
              "city_4                   0\n",
              "city_5                   0\n",
              "postal_code_0            0\n",
              "postal_code_1            0\n",
              "postal_code_2            0\n",
              "postal_code_3            0\n",
              "postal_code_4            0\n",
              "postal_code_5            0\n",
              "postal_code_6            0\n",
              "wifi                     0\n",
              "country_code_0           0\n",
              "country_code_1           0\n",
              "country_code_2           0\n",
              "country_code_3           0\n",
              "media_source_0           0\n",
              "media_source_1           0\n",
              "media_source_2           0\n",
              "region_0                 0\n",
              "region_1                 0\n",
              "state_0                  0\n",
              "state_1                  0\n",
              "state_2                  0\n",
              "state_3                  0\n",
              "device_type_0            0\n",
              "device_type_1            0\n",
              "device_type_2            0\n",
              "device_type_3            0\n",
              "advertising_channel_0    0\n",
              "advertising_channel_1    0\n",
              "advertising_channel_2    0\n",
              "language_0               0\n",
              "language_1               0\n",
              "language_2               0\n",
              "language_3               0\n",
              "platform_0               0\n",
              "ad_type_0                0\n",
              "ad_type_1                0\n",
              "event_revenue1           0\n",
              "dtype: int64"
            ]
          },
          "metadata": {
            "tags": []
          },
          "execution_count": 56
        }
      ]
    },
    {
      "cell_type": "markdown",
      "metadata": {
        "id": "qgotj5JFHvSK"
      },
      "source": [
        "**Lets check corelation of features with target variables**\n",
        "there is no strong corelation between features"
      ]
    },
    {
      "cell_type": "code",
      "metadata": {
        "colab": {
          "base_uri": "https://localhost:8080/"
        },
        "id": "SGoYIj6EHhzv",
        "outputId": "e51b6685-0bd7-4beb-9a06-ad6352b3ee82"
      },
      "source": [
        "df1[df1.columns[1:]].corr()['event_revenue1'][:]"
      ],
      "execution_count": null,
      "outputs": [
        {
          "output_type": "execute_result",
          "data": {
            "text/plain": [
              "event_name_0                  NaN\n",
              "event_name_1             0.087129\n",
              "event_name_2             0.074091\n",
              "device_category_0             NaN\n",
              "device_category_1        0.000283\n",
              "event_source_0                NaN\n",
              "city_0                        NaN\n",
              "city_1                   0.003524\n",
              "city_2                   0.001157\n",
              "city_3                   0.000936\n",
              "city_4                   0.000825\n",
              "city_5                   0.001038\n",
              "postal_code_0                 NaN\n",
              "postal_code_1            0.001642\n",
              "postal_code_2            0.002687\n",
              "postal_code_3            0.001376\n",
              "postal_code_4            0.000343\n",
              "postal_code_5           -0.002304\n",
              "postal_code_6            0.003463\n",
              "wifi                    -0.005043\n",
              "country_code_0                NaN\n",
              "country_code_1          -0.000652\n",
              "country_code_2          -0.000783\n",
              "country_code_3           0.002771\n",
              "media_source_0                NaN\n",
              "media_source_1          -0.000549\n",
              "media_source_2           0.001452\n",
              "region_0                      NaN\n",
              "region_1                -0.001569\n",
              "state_0                       NaN\n",
              "state_1                  0.001083\n",
              "state_2                  0.001330\n",
              "state_3                  0.000422\n",
              "device_type_0                 NaN\n",
              "device_type_1            0.005705\n",
              "device_type_2           -0.003567\n",
              "device_type_3           -0.003085\n",
              "advertising_channel_0         NaN\n",
              "advertising_channel_1    0.001185\n",
              "advertising_channel_2   -0.002209\n",
              "language_0                    NaN\n",
              "language_1              -0.001114\n",
              "language_2              -0.000505\n",
              "language_3              -0.000397\n",
              "platform_0                    NaN\n",
              "ad_type_0                     NaN\n",
              "ad_type_1                0.002200\n",
              "event_revenue1           1.000000\n",
              "Name: event_revenue1, dtype: float64"
            ]
          },
          "metadata": {
            "tags": []
          },
          "execution_count": 103
        }
      ]
    },
    {
      "cell_type": "code",
      "metadata": {
        "id": "FZBgTytsqaHf"
      },
      "source": [
        "#df['event_name'] =df['event_name'].astype('category').cat.codes\n",
        "#df['device_category'] =df['device_category'].astype('category').cat.codes\n",
        "#df['event_source'] =df['event_source'].astype('category').cat.codes\n",
        "#df['city'] =df['city'].astype('category').cat.codes\n",
        "#df['postal_code'] =df['postal_code'].astype('category').cat.codes\n",
        "#df['media_source'] =df['media_source'].astype('category').cat.codes\n",
        "#df['region'] =df['region'].astype('category').cat.codes\n",
        "#df['state'] =df['state'].astype('category').cat.codes\n",
        "#df['advertising_channel'] = ['advertising_channel'].astype('category').cat.codes\n",
        "#df['language'] =df['language'].astype('category').cat.codes\n",
        "#df['platform'] =df['platform'].astype('category').cat.codes\n",
        "#df['event_revenue'] =df['event_revenue'].astype('category').cat.codes"
      ],
      "execution_count": null,
      "outputs": []
    },
    {
      "cell_type": "markdown",
      "metadata": {
        "id": "wJv1CFbSsDQM"
      },
      "source": [
        "Now its time to split dataset into training and testing data. we will also apply standardisation."
      ]
    },
    {
      "cell_type": "code",
      "metadata": {
        "id": "YJ4PTgkJ5-81"
      },
      "source": [
        "from sklearn.model_selection import train_test_split\n",
        "from sklearn.metrics import roc_auc_score\n",
        "X = df1.drop('event_revenue1', axis=1)\n",
        "y = df1['event_revenue1']\n",
        "X_train, X_test, y_train, y_test = train_test_split(X, y,random_state=2, test_size=.3)"
      ],
      "execution_count": null,
      "outputs": []
    },
    {
      "cell_type": "code",
      "metadata": {
        "colab": {
          "base_uri": "https://localhost:8080/"
        },
        "id": "C7cCSy4h3YsE",
        "outputId": "55c9de5f-c723-4bb7-b127-ced98f0ce4ea"
      },
      "source": [
        "y_test.count()"
      ],
      "execution_count": null,
      "outputs": [
        {
          "output_type": "execute_result",
          "data": {
            "text/plain": [
              "88273"
            ]
          },
          "metadata": {
            "tags": []
          },
          "execution_count": 77
        }
      ]
    },
    {
      "cell_type": "code",
      "metadata": {
        "colab": {
          "base_uri": "https://localhost:8080/"
        },
        "id": "FjDzBZhDsqVZ",
        "outputId": "4ec5816d-3513-4311-adf3-b922917244b0"
      },
      "source": [
        "from sklearn.preprocessing import StandardScaler\n",
        "sc = StandardScaler()\n",
        "sc.fit(X_train)"
      ],
      "execution_count": null,
      "outputs": [
        {
          "output_type": "execute_result",
          "data": {
            "text/plain": [
              "StandardScaler(copy=True, with_mean=True, with_std=True)"
            ]
          },
          "metadata": {
            "tags": []
          },
          "execution_count": 59
        }
      ]
    },
    {
      "cell_type": "markdown",
      "metadata": {
        "id": "0rqFuzCEtVSU"
      },
      "source": [
        "Now we will check the accuracy of this **imbalanced dataset** by using random forest classification algorithm.\n",
        "\n",
        "**Why random forest?**\n",
        "\n",
        "because it is ensemble learning technique and ensemble learning techniques uses bagging also it consists of multiple decision trees and it work better in such datasets.\n",
        "so lets try"
      ]
    },
    {
      "cell_type": "code",
      "metadata": {
        "id": "v9qcmRf27_FB",
        "colab": {
          "base_uri": "https://localhost:8080/"
        },
        "outputId": "ad66030e-d005-44f7-f730-96081fd09619"
      },
      "source": [
        "from sklearn.ensemble import RandomForestClassifier\n",
        "from sklearn import metrics \n",
        "from sklearn.metrics import confusion_matrix, classification_report\n",
        "rfc = RandomForestClassifier(max_depth=5, random_state=2, n_estimators=750)\n",
        "rfc.fit(X_train, y_train)\n",
        "\n",
        "#make prediction using our test data and model\n",
        "y_pred_rfc = rfc.predict(X_test)\n",
        "\n",
        "\n",
        "# Comparing our prediciton to response values\n",
        "print('Random Forest Classifier model accuracy(in %):', round(metrics.accuracy_score(y_test, y_pred_rfc)*100,2))\n",
        "print(classification_report(y_test, y_pred_rfc))"
      ],
      "execution_count": null,
      "outputs": [
        {
          "output_type": "stream",
          "text": [
            "Random Forest Classifier model accuracy(in %): 99.72\n",
            "              precision    recall  f1-score   support\n",
            "\n",
            "           0       1.00      1.00      1.00     88024\n",
            "           1       0.00      0.00      0.00       249\n",
            "\n",
            "    accuracy                           1.00     88273\n",
            "   macro avg       0.50      0.50      0.50     88273\n",
            "weighted avg       0.99      1.00      1.00     88273\n",
            "\n"
          ],
          "name": "stdout"
        },
        {
          "output_type": "stream",
          "text": [
            "/usr/local/lib/python3.7/dist-packages/sklearn/metrics/_classification.py:1272: UndefinedMetricWarning: Precision and F-score are ill-defined and being set to 0.0 in labels with no predicted samples. Use `zero_division` parameter to control this behavior.\n",
            "  _warn_prf(average, modifier, msg_start, len(result))\n"
          ],
          "name": "stderr"
        }
      ]
    },
    {
      "cell_type": "markdown",
      "metadata": {
        "id": "TyU4lI1ot7mh"
      },
      "source": [
        "As we see the results accuracy is near about **100% dont get excited the model is fooling us** . because it has taken large amount of non purchasers i.e, 0 value as training set so given the result for the same. if we look at the precisionand recall we will come to know the problem.so lets try to make the **target varibles balanced **for doing this there are following techniques.\n",
        "\n",
        "*   Traditional undersampling\n",
        "*   Traditional oversampling\n",
        "*   The smote algorithm\n",
        "*   KNN approach\n",
        "\n",
        "i willl be using smote technique which combination of both but work on oversampling.\n",
        "\n",
        "\n",
        "\n",
        "\n"
      ]
    },
    {
      "cell_type": "code",
      "metadata": {
        "id": "oHcMPZYz6Zx4",
        "colab": {
          "base_uri": "https://localhost:8080/"
        },
        "outputId": "03baa2f0-92bc-4e70-b5be-f2e2df31c81d"
      },
      "source": [
        "from imblearn.over_sampling import SMOTE\n",
        "from collections import Counter\n",
        "counter = Counter(y_train)\n",
        "print('Before', counter)\n",
        "smt = SMOTE()\n",
        "X_train_sm, y_train_sm = smt.fit_sample(X_train, y_train.ravel())\n",
        "counter = Counter(y_train_sm)\n",
        "print('After', counter)"
      ],
      "execution_count": null,
      "outputs": [
        {
          "output_type": "stream",
          "text": [
            "Before Counter({0: 205383, 1: 587})\n"
          ],
          "name": "stdout"
        },
        {
          "output_type": "stream",
          "text": [
            "/usr/local/lib/python3.7/dist-packages/sklearn/utils/deprecation.py:87: FutureWarning: Function safe_indexing is deprecated; safe_indexing is deprecated in version 0.22 and will be removed in version 0.24.\n",
            "  warnings.warn(msg, category=FutureWarning)\n"
          ],
          "name": "stderr"
        },
        {
          "output_type": "stream",
          "text": [
            "After Counter({0: 205383, 1: 205383})\n"
          ],
          "name": "stdout"
        }
      ]
    },
    {
      "cell_type": "markdown",
      "metadata": {
        "id": "CrqBgCnevKzP"
      },
      "source": [
        "After balancing the target we can apply our model on smotes train variables.also we can increase the performance of model by hyperparameter techniques but beacause of low computational power of my pc i didnt get  fast results so i will skip this part.and train our model using random forest and logistic regression."
      ]
    },
    {
      "cell_type": "code",
      "metadata": {
        "id": "bN9vxBz_e6kX",
        "colab": {
          "base_uri": "https://localhost:8080/"
        },
        "outputId": "0c1c29af-d8a2-4a05-8ad8-4d9da7277d06"
      },
      "source": [
        "####this part is skipped due to low computation power in my pc\n",
        "from sklearn.model_selection import RandomizedSearchCV\n",
        " #Number of trees in random forest\n",
        "n_estimators = [int(x) for x in np.linspace(start = 200, stop = 2000, num = 10)]\n",
        " #Number of features to consider at every split\n",
        "max_features = ['auto', 'sqrt','log2']\n",
        "#Maximum number of levels in tree\n",
        "max_depth = [int(x) for x in np.linspace(10, 1000,10)]\n",
        "#Minimum number of samples required to split a node\n",
        "min_samples_split = [2, 5, 10,14]\n",
        "#Minimum number of samples required at each leaf node\n",
        "min_samples_leaf = [1, 2, 4,6,8]\n",
        "#Create the random grid\n",
        "random_grid = {'n_estimators': n_estimators,\n",
        "               'max_features': max_features,\n",
        "               'max_depth': max_depth,\n",
        "               'min_samples_split': min_samples_split,\n",
        "               'min_samples_leaf': min_samples_leaf,\n",
        "              'criterion':['entropy','gini']}\n",
        "print(random_grid)"
      ],
      "execution_count": null,
      "outputs": [
        {
          "output_type": "stream",
          "text": [
            "{'n_estimators': [200, 400, 600, 800, 1000, 1200, 1400, 1600, 1800, 2000], 'max_features': ['auto', 'sqrt', 'log2'], 'max_depth': [10, 120, 230, 340, 450, 560, 670, 780, 890, 1000], 'min_samples_split': [2, 5, 10, 14], 'min_samples_leaf': [1, 2, 4, 6, 8], 'criterion': ['entropy', 'gini']}\n"
          ],
          "name": "stdout"
        }
      ]
    },
    {
      "cell_type": "code",
      "metadata": {
        "id": "8X-ASEbZe-C6"
      },
      "source": [
        "####this part is skipped due to low computation power in my pc\n",
        "rf=RandomForestClassifier()\n",
        "rf_randomcv=RandomizedSearchCV(estimator=rf,param_distributions=random_grid,n_iter=100,cv=3,verbose=2,\n",
        "                               random_state=20,n_jobs=-1)\n",
        "### fit the randomized model\n",
        "rf_randomcv.fit(X_train_sm,  y_train_sm)"
      ],
      "execution_count": null,
      "outputs": []
    },
    {
      "cell_type": "code",
      "metadata": {
        "id": "9kxxrpY8LDWT",
        "colab": {
          "base_uri": "https://localhost:8080/"
        },
        "outputId": "8165150e-2972-4ae3-9a4f-dfa350d80a2a"
      },
      "source": [
        "\n",
        "from sklearn.ensemble import RandomForestClassifier\n",
        "from sklearn import metrics \n",
        "rfc1 = RandomForestClassifier(max_depth=5, random_state=2, n_estimators= 100)\n",
        "rfc1.fit(X_train_sm,  y_train_sm)\n",
        "\n",
        "# make prediction using our test data and model\n",
        "y_pred = rfc1.predict(X_test)\n",
        "y_prob = rfc1.predict_proba(X_test)[:, 1]\n",
        "\n",
        "# Comparing our prediciton to response values\n",
        "print('Random Forest Classifier model accuracy(in %):', round(metrics.accuracy_score(y_test, y_pred)*100,2))\n",
        "print(classification_report(y_test, y_pred))"
      ],
      "execution_count": null,
      "outputs": [
        {
          "output_type": "stream",
          "text": [
            "Random Forest Classifier model accuracy(in %): 96.73\n",
            "              precision    recall  f1-score   support\n",
            "\n",
            "           0       1.00      0.97      0.98     88024\n",
            "           1       0.07      0.87      0.13       249\n",
            "\n",
            "    accuracy                           0.97     88273\n",
            "   macro avg       0.53      0.92      0.56     88273\n",
            "weighted avg       1.00      0.97      0.98     88273\n",
            "\n"
          ],
          "name": "stdout"
        }
      ]
    },
    {
      "cell_type": "markdown",
      "metadata": {
        "id": "28XHlUddweyF"
      },
      "source": [
        "As we can see results we reduced the actual accuracy of our previous model we can also make it more accurate by using hyperparameter tuning.we can also try Knn but it requires more computational power lets implement simple logistic regression model.**Predicted results is not necessarily the best but it is better than imbalanced one**."
      ]
    },
    {
      "cell_type": "code",
      "metadata": {
        "id": "oVodDjTkcjdb",
        "colab": {
          "base_uri": "https://localhost:8080/"
        },
        "outputId": "f2db39f3-f270-4e0b-dbda-b58057756fe5"
      },
      "source": [
        "from sklearn.linear_model import LogisticRegression\n",
        "lr = LogisticRegression(max_iter= 200)\n",
        "lr.fit(X_train_sm,  y_train_sm)\n",
        "y_pred1 = lr.predict(X_test)\n",
        "print('Logistic regression model accuracy(in %):', round(metrics.accuracy_score(y_test, y_pred1)*100,2))\n",
        "print(classification_report(y_test, y_pred1))"
      ],
      "execution_count": null,
      "outputs": [
        {
          "output_type": "stream",
          "text": [
            "/usr/local/lib/python3.7/dist-packages/sklearn/linear_model/_logistic.py:940: ConvergenceWarning: lbfgs failed to converge (status=1):\n",
            "STOP: TOTAL NO. of ITERATIONS REACHED LIMIT.\n",
            "\n",
            "Increase the number of iterations (max_iter) or scale the data as shown in:\n",
            "    https://scikit-learn.org/stable/modules/preprocessing.html\n",
            "Please also refer to the documentation for alternative solver options:\n",
            "    https://scikit-learn.org/stable/modules/linear_model.html#logistic-regression\n",
            "  extra_warning_msg=_LOGISTIC_SOLVER_CONVERGENCE_MSG)\n"
          ],
          "name": "stderr"
        },
        {
          "output_type": "stream",
          "text": [
            "Logistic regression model accuracy(in %): 94.32\n",
            "              precision    recall  f1-score   support\n",
            "\n",
            "           0       1.00      0.94      0.97     88024\n",
            "           1       0.05      1.00      0.09       249\n",
            "\n",
            "    accuracy                           0.94     88273\n",
            "   macro avg       0.52      0.97      0.53     88273\n",
            "weighted avg       1.00      0.94      0.97     88273\n",
            "\n"
          ],
          "name": "stdout"
        }
      ]
    },
    {
      "cell_type": "markdown",
      "metadata": {
        "id": "kVrG_df1AzcJ"
      },
      "source": [
        "In logistic regresion model we get better precision and overall accuracy of **94.32%**"
      ]
    },
    {
      "cell_type": "code",
      "metadata": {
        "colab": {
          "base_uri": "https://localhost:8080/"
        },
        "id": "5wn5Dl6B171X",
        "outputId": "675a9cbc-4ff5-4b58-d84a-696042979a1d"
      },
      "source": [
        "from sklearn.neighbors import KNeighborsClassifier\n",
        "knn = KNeighborsClassifier(n_neighbors = 10)\n",
        "knn.fit(X_train_sm, y_train_sm)\n",
        "y_pred2 = knn.predict(X_test)\n",
        "print(' KNeighborsClassifier model accuracy(in %):', round(metrics.accuracy_score(y_test, y_pred2)*100,2))\n",
        "print(classification_report(y_test, y_pred2))\n"
      ],
      "execution_count": null,
      "outputs": [
        {
          "output_type": "stream",
          "text": [
            " KNeighborsClassifier model accuracy(in %): 97.37\n",
            "              precision    recall  f1-score   support\n",
            "\n",
            "           0       1.00      0.98      0.99     88024\n",
            "           1       0.02      0.22      0.04       249\n",
            "\n",
            "    accuracy                           0.97     88273\n",
            "   macro avg       0.51      0.60      0.52     88273\n",
            "weighted avg       0.99      0.97      0.98     88273\n",
            "\n"
          ],
          "name": "stdout"
        }
      ]
    },
    {
      "cell_type": "code",
      "metadata": {
        "colab": {
          "base_uri": "https://localhost:8080/",
          "height": 340
        },
        "id": "_921JpqlzwPh",
        "outputId": "47d50261-300f-4a15-bc3c-e2c18ed61887"
      },
      "source": [
        "sns.countplot(y_pred2, data= df1)"
      ],
      "execution_count": null,
      "outputs": [
        {
          "output_type": "stream",
          "text": [
            "/usr/local/lib/python3.7/dist-packages/seaborn/_decorators.py:43: FutureWarning: Pass the following variable as a keyword arg: x. From version 0.12, the only valid positional argument will be `data`, and passing other arguments without an explicit keyword will result in an error or misinterpretation.\n",
            "  FutureWarning\n"
          ],
          "name": "stderr"
        },
        {
          "output_type": "execute_result",
          "data": {
            "text/plain": [
              "<matplotlib.axes._subplots.AxesSubplot at 0x7f0f8ec8a110>"
            ]
          },
          "metadata": {
            "tags": []
          },
          "execution_count": 96
        },
        {
          "output_type": "display_data",
          "data": {
            "image/png": "[encoded data removed]",
            "text/plain": [
              "<Figure size 432x288 with 1 Axes>"
            ]
          },
          "metadata": {
            "tags": [],
            "needs_background": "light"
          }
        }
      ]
    },
    {
      "cell_type": "code",
      "metadata": {
        "colab": {
          "base_uri": "https://localhost:8080/"
        },
        "id": "DSEtlTH-1ri2",
        "outputId": "b2dd8042-4891-4d9a-9617-2eabd9c65c64"
      },
      "source": [
        "print(y_test, y_pred)\n"
      ],
      "execution_count": null,
      "outputs": [
        {
          "output_type": "stream",
          "text": [
            "24558     0\n",
            "237720    0\n",
            "2334      0\n",
            "1867      0\n",
            "292406    0\n",
            "         ..\n",
            "204207    0\n",
            "270668    0\n",
            "62404     0\n",
            "254716    0\n",
            "232130    0\n",
            "Name: event_revenue1, Length: 88273, dtype: int64 [0 0 0 ... 0 0 0]\n"
          ],
          "name": "stdout"
        }
      ]
    },
    {
      "cell_type": "markdown",
      "metadata": {
        "id": "6JCfMqoZCyUh"
      },
      "source": [
        "Final Words Summary\n",
        "\n",
        "The given dataset was **highly imbalanced **and consists of **large number of missing values **if we dropped all missing rows then there will be a huge information leakage so after predicting missing values i have managed to keep **satisfactory** accuracy although it can be increased using different hyperparameter techniques and dimensionality reduction techniques.**the predicted results can be shown graphically using heroku or aws.**\n",
        "\n",
        "thank you !!"
      ]
    }
  ]
}